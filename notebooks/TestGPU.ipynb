{
 "cells": [
  {
   "cell_type": "markdown",
   "id": "84b14bc6",
   "metadata": {},
   "source": [
    "# Test GPU Notebook\n",
    "\n",
    "This notebook will execute a few Python statements to check if the Nivdia GPU is available and functional."
   ]
  },
  {
   "cell_type": "code",
   "execution_count": null,
   "id": "9286c35f-aa79-44d2-a760-b0f1d1ccfd64",
   "metadata": {},
   "outputs": [],
   "source": [
    "import warnings \n",
    "warnings.filterwarnings('ignore')"
   ]
  },
  {
   "cell_type": "markdown",
   "id": "8628e7fe",
   "metadata": {},
   "source": [
    "## Tensorflow"
   ]
  },
  {
   "cell_type": "code",
   "execution_count": null,
   "id": "636adce6",
   "metadata": {},
   "outputs": [],
   "source": [
    "import tensorflow as tf\n",
    "print(\"Num GPUs Available: \", len(tf.config.experimental.list_physical_devices('GPU')))"
   ]
  },
  {
   "cell_type": "code",
   "execution_count": null,
   "id": "2be54e5b",
   "metadata": {},
   "outputs": [],
   "source": [
    "from tensorflow.python.client import device_lib\n",
    "\n",
    "# Print local GPU(s) information\n",
    "for device in device_lib.list_local_devices():\n",
    "    if device.device_type == \"GPU\":\n",
    "        print(\"GPU found:\")\n",
    "        print(\"Name:         \" + device.name)\n",
    "        print(\"Descr.:       \" + device.physical_device_desc)\n",
    "        print(\"memory_limit: \" + str(device.memory_limit))"
   ]
  },
  {
   "cell_type": "markdown",
   "id": "eab79c72",
   "metadata": {},
   "source": [
    "## PyTorch"
   ]
  },
  {
   "cell_type": "code",
   "execution_count": null,
   "id": "0db8966c-06e4-4c5c-be00-270fbe31a224",
   "metadata": {},
   "outputs": [],
   "source": [
    "import torch\n",
    "\n",
    "torch.cuda.is_available()"
   ]
  }
 ],
 "metadata": {
  "kernelspec": {
   "display_name": "Python 3 (ipykernel)",
   "language": "python",
   "name": "python3"
  },
  "language_info": {
   "codemirror_mode": {
    "name": "ipython",
    "version": 3
   },
   "file_extension": ".py",
   "mimetype": "text/x-python",
   "name": "python",
   "nbconvert_exporter": "python",
   "pygments_lexer": "ipython3",
   "version": "3.11.0rc1"
  }
 },
 "nbformat": 4,
 "nbformat_minor": 5
}
